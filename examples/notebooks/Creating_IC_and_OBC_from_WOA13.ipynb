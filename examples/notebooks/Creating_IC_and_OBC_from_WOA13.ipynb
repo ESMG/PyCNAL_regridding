{
 "cells": [
  {
   "cell_type": "markdown",
   "metadata": {},
   "source": [
    "# Creating Initial and boundary conditions for MOM6 from WOA13"
   ]
  },
  {
   "cell_type": "markdown",
   "metadata": {},
   "source": [
    "## 1. initial Condition"
   ]
  },
  {
   "cell_type": "code",
   "execution_count": null,
   "metadata": {
    "collapsed": true
   },
   "outputs": [],
   "source": [
    "# import the regridding module\n",
    "from PyCNAL_regridding import *"
   ]
  },
  {
   "cell_type": "code",
   "execution_count": null,
   "metadata": {
    "collapsed": true
   },
   "outputs": [],
   "source": [
    "# ---------- path to MOM6 grid and WOA T/S data ---------------------\n",
    "momgrd = '../data/ocean_hgrid_ccs1.nc'\n",
    "woatemp = '../data/woa13_5564_t01_01.nc'\n",
    "woasalt = '../data/woa13_5564_s01_01.nc'"
   ]
  },
  {
   "cell_type": "code",
   "execution_count": null,
   "metadata": {
    "collapsed": true
   },
   "outputs": [],
   "source": [
    "# ---------- define a domain target on MOM grid ---------------------\n",
    "domain = obc_segment('domain', momgrd,istart=0,iend=360,jstart=0,  jend=960)"
   ]
  },
  {
   "cell_type": "code",
   "execution_count": null,
   "metadata": {
    "collapsed": true
   },
   "outputs": [],
   "source": [
    "# ---------- define variables on each segment -----------------------\n",
    "temp_domain = obc_variable(domain,'temp',geometry='surface',obctype='radiation')\n",
    "salt_domain = obc_variable(domain,'salt',geometry='surface',obctype='radiation')\n",
    "ssh_domain  = obc_variable(domain,'ssh' ,geometry='line'   ,obctype='flather')\n",
    "vel_domain  = obc_vectvariable(domain,'u','v',geometry='surface',obctype='radiation')"
   ]
  },
  {
   "cell_type": "code",
   "execution_count": null,
   "metadata": {
    "collapsed": false
   },
   "outputs": [],
   "source": [
    "# ---------- interpolate T/S from WOA january file ------------------\n",
    "# since T and S are on the same grid, we can save the interpolator from T and re-use for S\n",
    "# to save time\n",
    "regrid_ts = temp_domain.interpolate_from( woatemp,'t_an',depthname='depth')\n",
    "regrid_ts = salt_domain.interpolate_from( woasalt,'s_an',depthname='depth',interpolator=regrid_ts)"
   ]
  },
  {
   "cell_type": "code",
   "execution_count": null,
   "metadata": {
    "collapsed": false
   },
   "outputs": [],
   "source": [
    "# we use the depth from the temp field to create the depth vector for velocities\n",
    "depth_woa = temp_domain.depth[:,0,0]\n",
    "\n",
    "# ---------- we don't have ssh or velocities, setting up to zero -----\n",
    "ssh_domain.set_constant_value(0.0)\n",
    "vel_domain.set_constant_value(0.,0.,depth_vector=depth_woa)"
   ]
  },
  {
   "cell_type": "code",
   "execution_count": null,
   "metadata": {
    "collapsed": false
   },
   "outputs": [],
   "source": [
    "# ---------- list segments and variables to be written -------\n",
    "list_segments = [domain]\n",
    "list_variables = [ssh_domain,temp_domain,salt_domain]\n",
    "list_vectvariables = [vel_domain]\n",
    "\n",
    "#----------- time --------------------------------------------\n",
    "time = timeobject(15.5)\n",
    "time.units = 'days since 1900-01-01'\n",
    "time.calendar = 'gregorian'\n",
    "\n",
    "# ---------- write to file -----------------------------------\n",
    "write_ic_file(list_segments,list_variables,list_vectvariables,time,output='./output_woa13/initial_condition_WOA13_jan.nc')"
   ]
  },
  {
   "cell_type": "markdown",
   "metadata": {
    "collapsed": true
   },
   "source": [
    "## Boundary Conditions"
   ]
  },
  {
   "cell_type": "code",
   "execution_count": null,
   "metadata": {
    "collapsed": true
   },
   "outputs": [],
   "source": [
    "# ---------- define segments on MOM grid -----------------------\n",
    "south = obc_segment('segment_001', momgrd,istart=0,iend=360,jstart=0,  jend=0  )\n",
    "north = obc_segment('segment_002', momgrd,istart=0,iend=360,jstart=960,jend=960)\n",
    "west  = obc_segment('segment_003', momgrd,istart=0,iend=0,  jstart=0,  jend=960)"
   ]
  },
  {
   "cell_type": "code",
   "execution_count": null,
   "metadata": {
    "collapsed": false
   },
   "outputs": [],
   "source": [
    "# ---------- define variables on each segment ------------------\n",
    "temp_south = obc_variable(south,'temp',geometry='surface',obctype='radiation',use_locstream=True)\n",
    "temp_north = obc_variable(north,'temp',geometry='surface',obctype='radiation',use_locstream=True)\n",
    "temp_west  = obc_variable(west, 'temp',geometry='surface',obctype='radiation',use_locstream=True)\n",
    "\n",
    "salt_south = obc_variable(south,'salt',geometry='surface',obctype='radiation',use_locstream=True)\n",
    "salt_north = obc_variable(north,'salt',geometry='surface',obctype='radiation',use_locstream=True)\n",
    "salt_west  = obc_variable(west, 'salt',geometry='surface',obctype='radiation',use_locstream=True)\n",
    "\n",
    "zeta_south = obc_variable(south,'zeta',geometry='line',obctype='flather')\n",
    "zeta_north = obc_variable(north,'zeta',geometry='line',obctype='flather')\n",
    "zeta_west  = obc_variable(west ,'zeta',geometry='line',obctype='flather')\n",
    "\n",
    "vel_south  = obc_vectvariable(south,'u','v',geometry='surface',obctype='radiation')\n",
    "vel_north  = obc_vectvariable(north,'u','v',geometry='surface',obctype='radiation')\n",
    "vel_west   = obc_vectvariable(west ,'u','v',geometry='surface',obctype='radiation')"
   ]
  },
  {
   "cell_type": "code",
   "execution_count": null,
   "metadata": {
    "collapsed": false
   },
   "outputs": [],
   "source": [
    "days_in_month = np.array([31,28,31,30,31,30,31,31,30,31,30,31])\n",
    "\n",
    "# loop over months\n",
    "for kt in np.arange(12):\n",
    "    # pick the correct filename\n",
    "    mm=str(kt+1).zfill(2)\n",
    "    woatemp = '../data/woa13_5564_t' + mm + '_01.nc'\n",
    "    woasalt = '../data/woa13_5564_s' + mm + '_01.nc'\n",
    " \n",
    "    # ---------- interpolate T/S from WOA file\n",
    "    temp_south.interpolate_from( woatemp,'t_an',depthname='depth')\n",
    "    temp_north.interpolate_from( woatemp,'t_an',depthname='depth')\n",
    "    temp_west.interpolate_from(  woatemp,'t_an',depthname='depth')\n",
    "    \n",
    "    salt_south.interpolate_from( woasalt,'s_an',depthname='depth')\n",
    "    salt_north.interpolate_from( woasalt,'s_an',depthname='depth')\n",
    "    salt_west.interpolate_from(  woasalt,'s_an',depthname='depth')\n",
    "    \n",
    "    # ---------- set constant value for SSH and velocities -------\n",
    "    zeta_south.set_constant_value(0.0)\n",
    "    zeta_north.set_constant_value(0.0)\n",
    "    zeta_west.set_constant_value(0.0)\n",
    "\n",
    "    vel_south.set_constant_value(0.,0.,depth_vector=depth_woa)\n",
    "    vel_north.set_constant_value(0.,0.,depth_vector=depth_woa)\n",
    "    vel_west.set_constant_value(0.,0.,depth_vector=depth_woa)\n",
    "    \n",
    "    # ---------- list segments and variables to be written -------\n",
    "    list_segments = [north,south,west]\n",
    "\n",
    "    list_variables = [temp_south,temp_north,temp_west, \\\n",
    "                      salt_south,salt_north,salt_west, \\\n",
    "                      zeta_south,zeta_north,zeta_west ]\n",
    "\n",
    "    list_vectvariables = [vel_south,vel_north,vel_west]\n",
    "\n",
    "    #----------- time --------------------------------------------\n",
    "    middle_of_current_month = days_in_month[:kt].sum() + 0.5 * days_in_month[kt]\n",
    "    time = timeobject(middle_of_current_month)\n",
    "    time.units = 'days since 1900-01-01'\n",
    "    time.calendar = 'gregorian'\n",
    "\n",
    "    # ---------- write to file -----------------------------------\n",
    "    write_obc_file(list_segments,list_variables,list_vectvariables,time,output='output_woa13/obc_woa13_m' + mm + '.nc')"
   ]
  },
  {
   "cell_type": "code",
   "execution_count": null,
   "metadata": {
    "collapsed": true
   },
   "outputs": [],
   "source": []
  }
 ],
 "metadata": {
  "kernelspec": {
   "display_name": "Python 2",
   "language": "python",
   "name": "python2"
  },
  "language_info": {
   "codemirror_mode": {
    "name": "ipython",
    "version": 2
   },
   "file_extension": ".py",
   "mimetype": "text/x-python",
   "name": "python",
   "nbconvert_exporter": "python",
   "pygments_lexer": "ipython2",
   "version": "2.7.13"
  }
 },
 "nbformat": 4,
 "nbformat_minor": 2
}
