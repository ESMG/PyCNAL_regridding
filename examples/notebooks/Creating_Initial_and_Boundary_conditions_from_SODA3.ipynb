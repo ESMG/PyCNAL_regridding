{
 "cells": [
  {
   "cell_type": "markdown",
   "metadata": {},
   "source": [
    "# Creating Initial and boundary conditions for MOM6 from SODA3"
   ]
  },
  {
   "cell_type": "code",
   "execution_count": null,
   "metadata": {
    "collapsed": true
   },
   "outputs": [],
   "source": [
    "# import the regridding module\n",
    "from PyCNAL_regridding import *"
   ]
  },
  {
   "cell_type": "code",
   "execution_count": null,
   "metadata": {
    "collapsed": true
   },
   "outputs": [],
   "source": [
    "# ---------- path to MOM6 grid and SODA3 data ---------------------\n",
    "momgrd = '../data/ocean_hgrid_ccs1.nc'\n",
    "\n",
    "# change this to wherever you've got SODA3\n",
    "sodadir = '/Users/raphael/STORAGE/SODA3.3.1/'\n",
    "\n",
    "# output directory\n",
    "outputdir = './output_soda3/'"
   ]
  },
  {
   "cell_type": "markdown",
   "metadata": {},
   "source": [
    "# 1. initial Condition"
   ]
  },
  {
   "cell_type": "code",
   "execution_count": null,
   "metadata": {
    "collapsed": true
   },
   "outputs": [],
   "source": [
    "# pick date for initial condition\n",
    "year=1981 ; month=1 ; day=2\n",
    "\n",
    "cyear= str(year) ; cmonth=str(month).zfill(2) ; cday = str(day).zfill(2)\n",
    "sodaic = sodadir + cyear + '/' + 'soda3.3.1_5dy_ocean_reg_' + cyear + '_' + cmonth + '_' + cday + '.nc'"
   ]
  },
  {
   "cell_type": "code",
   "execution_count": null,
   "metadata": {
    "collapsed": true
   },
   "outputs": [],
   "source": [
    "# ---------- define a domain target on MOM grid ---------------------\n",
    "Nx=360\n",
    "Ny=960\n",
    "domain = obc_segment('domain', momgrd,istart=0,iend=Nx,jstart=0,  jend=Ny)"
   ]
  },
  {
   "cell_type": "code",
   "execution_count": null,
   "metadata": {
    "collapsed": true
   },
   "outputs": [],
   "source": [
    "# ---------- define variables on each segment ------------------\n",
    "temp_domain = obc_variable(domain,'temp',geometry='surface',obctype='radiation')\n",
    "salt_domain = obc_variable(domain,'salt',geometry='surface',obctype='radiation')\n",
    "ssh_domain  = obc_variable(domain,'ssh' ,geometry='line'   ,obctype='flather')\n",
    "vel_domain  = obc_vectvariable(domain,'u','v',geometry='surface',obctype='radiation')"
   ]
  },
  {
   "cell_type": "code",
   "execution_count": null,
   "metadata": {
    "collapsed": false
   },
   "outputs": [],
   "source": [
    "# ---------- interpolate T/S/U/V/SSH from SODA file -------------------\n",
    "# note that since temp/salt/ssh are on all defined on T-point, we can re-use\n",
    "# the same interpolator (time-saving)\n",
    "\n",
    "interp_t2s = temp_domain.interpolate_from(sodaic,'temp',frame=0,depthname='st_ocean', \\\n",
    "                                          coord_names=['xt_ocean','yt_ocean'],method='bilinear')\n",
    "salt_domain.interpolate_from(sodaic,'salt',frame=0,depthname='st_ocean',coord_names=['xt_ocean','yt_ocean'],\\\n",
    "                             method='bilinear',interpolator=interp_t2s)\n",
    "ssh_domain.interpolate_from(sodaic ,'ssh' ,frame=0,coord_names=['xt_ocean','yt_ocean'],\\\n",
    "                            method='bilinear',interpolator=interp_t2s)\n",
    "\n",
    "# but we can't reuse the previous interpolator because u,v are defined at U,V point, not T point\n",
    "interp_u2s, interp_v2s = vel_domain.interpolate_from(sodaic,'u','v',frame=0,depthname='st_ocean',\\\n",
    "                                                     coord_names_u=['xu_ocean','yu_ocean'], \\\n",
    "                                                     coord_names_v=['xu_ocean','yu_ocean'],method='bilinear')"
   ]
  },
  {
   "cell_type": "code",
   "execution_count": null,
   "metadata": {
    "collapsed": false
   },
   "outputs": [],
   "source": [
    "# ---------- list segments and variables to be written -------\n",
    "list_segments = [domain]\n",
    "list_variables = [ssh_domain,temp_domain,salt_domain]\n",
    "list_vectvariables = [vel_domain]\n",
    "\n",
    "#----------- time --------------------------------------------\n",
    "time = temp_domain.timesrc\n",
    "\n",
    "# ---------- write to file -----------------------------------\n",
    "write_ic_file(list_segments,list_variables,list_vectvariables,time,output=outputdir + 'initial_condition_SODA3.nc')"
   ]
  },
  {
   "cell_type": "markdown",
   "metadata": {
    "collapsed": true
   },
   "source": [
    "# 2. Boundary Conditions"
   ]
  },
  {
   "cell_type": "code",
   "execution_count": null,
   "metadata": {
    "collapsed": true
   },
   "outputs": [],
   "source": [
    "import subprocess as sp\n",
    "import numpy as np"
   ]
  },
  {
   "cell_type": "code",
   "execution_count": null,
   "metadata": {
    "collapsed": true
   },
   "outputs": [],
   "source": [
    "# pick which years to regrid\n",
    "firstyear=1981 ; lastyear=1981"
   ]
  },
  {
   "cell_type": "code",
   "execution_count": null,
   "metadata": {
    "collapsed": false
   },
   "outputs": [],
   "source": [
    "# create the list of the SODA files we want to regrid\n",
    "\n",
    "list_soda_files = []\n",
    "for year in np.arange(firstyear,lastyear+1):\n",
    "    cmd = 'ls ' + sodadir + '/' + str(year) + ' | grep nc '\n",
    "    list_this_year = sp.check_output(cmd,shell=True).replace('\\n',' ').split()\n",
    "    for sodafile in list_this_year:\n",
    "        list_soda_files.append(sodadir + '/' + str(year) + '/' + sodafile)\n"
   ]
  },
  {
   "cell_type": "code",
   "execution_count": null,
   "metadata": {
    "collapsed": false
   },
   "outputs": [],
   "source": [
    "# ---------- define segments on MOM grid -----------------------\n",
    "Nx=360\n",
    "Ny=960\n",
    "north = obc_segment('segment_001',momgrd,istart=Nx,iend=0, jstart=Ny,jend=Ny)\n",
    "west  = obc_segment('segment_002',momgrd,istart=0, iend=0, jstart=Ny,jend=0 )\n",
    "south = obc_segment('segment_003',momgrd,istart=0, iend=Nx,jstart=0, jend=0 )"
   ]
  },
  {
   "cell_type": "code",
   "execution_count": null,
   "metadata": {
    "collapsed": false
   },
   "outputs": [],
   "source": [
    "# ---------- define variables on each segment ------------------\n",
    "temp_south = obc_variable(south,'temp',geometry='surface',obctype='radiation',use_locstream=True)\n",
    "temp_north = obc_variable(north,'temp',geometry='surface',obctype='radiation',use_locstream=True)\n",
    "temp_west  = obc_variable(west, 'temp',geometry='surface',obctype='radiation',use_locstream=True)\n",
    "\n",
    "salt_south = obc_variable(south,'salt',geometry='surface',obctype='radiation',use_locstream=True)\n",
    "salt_north = obc_variable(north,'salt',geometry='surface',obctype='radiation',use_locstream=True)\n",
    "salt_west  = obc_variable(west, 'salt',geometry='surface',obctype='radiation',use_locstream=True)\n",
    "\n",
    "zeta_south = obc_variable(south,'zeta',geometry='line',obctype='flather',use_locstream=True)\n",
    "zeta_north = obc_variable(north,'zeta',geometry='line',obctype='flather',use_locstream=True)\n",
    "zeta_west  = obc_variable(west ,'zeta',geometry='line',obctype='flather',use_locstream=True)\n",
    "\n",
    "vel_south  = obc_vectvariable(south,'u','v',geometry='surface',obctype='radiation',use_locstream=True)\n",
    "vel_north  = obc_vectvariable(north,'u','v',geometry='surface',obctype='radiation',use_locstream=True)\n",
    "vel_west   = obc_vectvariable(west ,'u','v',geometry='surface',obctype='radiation',use_locstream=True)"
   ]
  },
  {
   "cell_type": "code",
   "execution_count": null,
   "metadata": {
    "collapsed": false
   },
   "outputs": [],
   "source": [
    "# ---------- run the regridding on the list of files ------------------\n",
    "# for the first call to the regridding, we save all the interpolators\n",
    "# (for each segment, and each type of variable), so we don't need to\n",
    "# recompute the regridding weights for the N-1 following files\n",
    "\n",
    "first_call=True\n",
    "\n",
    "for sodafile in list_soda_files:\n",
    "    print('working on ' + sodafile)\n",
    "    filein=sodafile.replace('/',' ').split()[-1]\n",
    "    fileout= outputdir + filein.replace('.nc','_obc.nc')\n",
    "\n",
    "    if first_call:\n",
    "        interp_t2s_south = temp_south.interpolate_from(sodafile,'temp',frame=0,depthname='st_ocean',\\\n",
    "                                                       coord_names=['xt_ocean','yt_ocean'])\n",
    "        interp_t2s_north = temp_north.interpolate_from(sodafile,'temp',frame=0,depthname='st_ocean',\\\n",
    "                                                       coord_names=['xt_ocean','yt_ocean'])\n",
    "        interp_t2s_west  = temp_west.interpolate_from(sodafile ,'temp',frame=0,depthname='st_ocean',\\\n",
    "                                                      coord_names=['xt_ocean','yt_ocean'])\n",
    "    else:\n",
    "        temp_south.interpolate_from(sodafile,'temp',frame=0,depthname='st_ocean',\\\n",
    "                                    coord_names=['xt_ocean','yt_ocean'],interpolator=interp_t2s_south)\n",
    "        temp_north.interpolate_from(sodafile,'temp',frame=0,depthname='st_ocean',\\\n",
    "                                    coord_names=['xt_ocean','yt_ocean'],interpolator=interp_t2s_north)\n",
    "        temp_west.interpolate_from(sodafile ,'temp',frame=0,depthname='st_ocean',\\\n",
    "                                   coord_names=['xt_ocean','yt_ocean'],interpolator=interp_t2s_west)\n",
    "\n",
    "    salt_south.interpolate_from(sodafile,'salt',frame=0,depthname='st_ocean',\\\n",
    "                                coord_names=['xt_ocean','yt_ocean'],interpolator=interp_t2s_south)\n",
    "    salt_north.interpolate_from(sodafile,'salt',frame=0,depthname='st_ocean',\\\n",
    "                                coord_names=['xt_ocean','yt_ocean'],interpolator=interp_t2s_north)\n",
    "    salt_west.interpolate_from(sodafile ,'salt',frame=0,depthname='st_ocean',\\\n",
    "                               coord_names=['xt_ocean','yt_ocean'],interpolator=interp_t2s_west)\n",
    "\n",
    "    zeta_south.interpolate_from(sodafile,'ssh',frame=0,depthname='st_ocean',\\\n",
    "                                coord_names=['xt_ocean','yt_ocean'],interpolator=interp_t2s_south)\n",
    "    zeta_north.interpolate_from(sodafile,'ssh',frame=0,depthname='st_ocean',\\\n",
    "                                coord_names=['xt_ocean','yt_ocean'],interpolator=interp_t2s_north)\n",
    "    zeta_west.interpolate_from(sodafile ,'ssh',frame=0,depthname='st_ocean',\\\n",
    "                               coord_names=['xt_ocean','yt_ocean'],interpolator=interp_t2s_west)\n",
    "\n",
    "    if first_call:\n",
    "        interp_u2s_south, interp_v2s_south = vel_south.interpolate_from(sodafile,'u','v',frame=0,depthname='st_ocean',\\\n",
    "        coord_names_u=['xu_ocean','yu_ocean'],coord_names_v=['xu_ocean','yu_ocean'])\n",
    "\n",
    "        interp_u2s_north, interp_v2s_north = vel_north.interpolate_from(sodafile,'u','v',frame=0,depthname='st_ocean',\\\n",
    "        coord_names_u=['xu_ocean','yu_ocean'],coord_names_v=['xu_ocean','yu_ocean'])\n",
    "\n",
    "        interp_u2s_west, interp_v2s_west = vel_west.interpolate_from(sodafile ,'u','v',frame=0,depthname='st_ocean',\\\n",
    "        coord_names_u=['xu_ocean','yu_ocean'],coord_names_v=['xu_ocean','yu_ocean'])\n",
    "    else:\n",
    "        vel_south.interpolate_from(sodafile,'u','v',frame=0,depthname='st_ocean',\\\n",
    "        coord_names_u=['xu_ocean','yu_ocean'],coord_names_v=['xu_ocean','yu_ocean'],\\\n",
    "        interpolator_u=interp_u2s_south,interpolator_v=interp_v2s_south)\n",
    "\n",
    "        vel_north.interpolate_from(sodafile,'u','v',frame=0,depthname='st_ocean',\\\n",
    "        coord_names_u=['xu_ocean','yu_ocean'],coord_names_v=['xu_ocean','yu_ocean'],\\\n",
    "        interpolator_u=interp_u2s_north,interpolator_v=interp_v2s_north)\n",
    "\n",
    "        vel_west.interpolate_from(sodafile ,'u','v',frame=0,depthname='st_ocean',\\\n",
    "        coord_names_u=['xu_ocean','yu_ocean'],coord_names_v=['xu_ocean','yu_ocean'],\\\n",
    "        interpolator_u=interp_u2s_west,interpolator_v=interp_v2s_west)\n",
    "        \n",
    "    # ---------- list segments and variables to be written -------\n",
    "    list_segments = [south,north,west]\n",
    "\n",
    "    list_variables = [temp_south,temp_north,temp_west, \\\n",
    "                      salt_south,salt_north,salt_west, \\\n",
    "                      zeta_south,zeta_north,zeta_west ]\n",
    "\n",
    "    list_vectvariables = [vel_south,vel_north,vel_west]\n",
    "\n",
    "    #----------- time --------------------------------------------\n",
    "    time = temp_south.timesrc\n",
    "\n",
    "    # ---------- write to file -----------------------------------\n",
    "    write_obc_file(list_segments,list_variables,list_vectvariables,time,output=fileout)\n",
    "\n",
    "    first_call=False\n"
   ]
  },
  {
   "cell_type": "code",
   "execution_count": null,
   "metadata": {
    "collapsed": true
   },
   "outputs": [],
   "source": []
  }
 ],
 "metadata": {
  "kernelspec": {
   "display_name": "Python 2",
   "language": "python",
   "name": "python2"
  },
  "language_info": {
   "codemirror_mode": {
    "name": "ipython",
    "version": 2
   },
   "file_extension": ".py",
   "mimetype": "text/x-python",
   "name": "python",
   "nbconvert_exporter": "python",
   "pygments_lexer": "ipython2",
   "version": "2.7.13"
  }
 },
 "nbformat": 4,
 "nbformat_minor": 2
}
